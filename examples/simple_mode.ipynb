{
 "cells": [
  {
   "cell_type": "markdown",
   "id": "0a854688",
   "metadata": {},
   "source": [
    "# Mode solver\n",
    "\n",
    "This tutorial shows how to use the mode solver plugin in tidy3d."
   ]
  },
  {
   "cell_type": "code",
   "execution_count": 9,
   "id": "dfe126a8",
   "metadata": {
    "execution": {
     "iopub.execute_input": "2023-03-01T19:49:02.033338Z",
     "iopub.status.busy": "2023-03-01T19:49:02.032939Z",
     "iopub.status.idle": "2023-03-01T19:49:03.179621Z",
     "shell.execute_reply": "2023-03-01T19:49:03.178970Z"
    },
    "tags": []
   },
   "outputs": [],
   "source": [
    "import numpy as np\n",
    "import matplotlib.pylab as plt\n",
    "\n",
    "import tidy3d as td\n",
    "from tidy3d.constants import C_0\n",
    "import tidy3d.web as web\n",
    "\n",
    "from tidy3d.plugins import ModeSolver\n"
   ]
  },
  {
   "cell_type": "markdown",
   "id": "56cfb817",
   "metadata": {},
   "source": [
    "## Setup\n",
    "\n",
    "We first set up the mode solver with information about our system. We start by setting parameters"
   ]
  },
  {
   "cell_type": "code",
   "execution_count": 5,
   "id": "637d4748",
   "metadata": {
    "execution": {
     "iopub.execute_input": "2023-03-01T19:49:03.182117Z",
     "iopub.status.busy": "2023-03-01T19:49:03.181849Z",
     "iopub.status.idle": "2023-03-01T19:49:03.198664Z",
     "shell.execute_reply": "2023-03-01T19:49:03.198170Z"
    },
    "tags": []
   },
   "outputs": [],
   "source": [
    "# size of simulation domain\n",
    "Lx, Ly, Lz = 6, 6, 6\n",
    "dl = 0.05\n",
    "\n",
    "# waveguide information\n",
    "wg_width = 1.5\n",
    "wg_height = 1.0\n",
    "wg_permittivity = 4.0\n",
    "\n",
    "# central frequency\n",
    "wvl_um = 2.0\n",
    "freq0 = C_0 / wvl_um\n",
    "fwidth = freq0 / 3\n",
    "\n",
    "# run_time in ps\n",
    "run_time = 1e-12\n",
    "\n",
    "# automatic grid specification\n",
    "grid_spec = td.GridSpec.auto(min_steps_per_wvl=20, wavelength=wvl_um)\n"
   ]
  },
  {
   "cell_type": "markdown",
   "id": "97533832",
   "metadata": {},
   "source": [
    "Then we set up a simulation, in this case including a straight waveguide and periodic boundary conditions."
   ]
  },
  {
   "cell_type": "code",
   "execution_count": 6,
   "id": "a291bd49",
   "metadata": {
    "execution": {
     "iopub.execute_input": "2023-03-01T19:49:03.200800Z",
     "iopub.status.busy": "2023-03-01T19:49:03.200620Z",
     "iopub.status.idle": "2023-03-01T19:49:03.452260Z",
     "shell.execute_reply": "2023-03-01T19:49:03.451750Z"
    },
    "tags": []
   },
   "outputs": [
    {
     "data": {
      "text/html": [
       "<pre style=\"white-space:pre;overflow-x:auto;line-height:normal;font-family:Menlo,'DejaVu Sans Mono',consolas,'Courier New',monospace\"><span style=\"color: #7fbfbf; text-decoration-color: #7fbfbf\">[05:23:14] </span><span style=\"color: #800000; text-decoration-color: #800000\">WARNING </span> No sources in simulation.                                                     <a href=\"file:///home/lucas/micromamba/envs/mangoustan/lib/python3.9/site-packages/tidy3d/components/simulation.py\" target=\"_blank\"><span style=\"color: #7f7f7f; text-decoration-color: #7f7f7f\">simulation.py</span></a><span style=\"color: #7f7f7f; text-decoration-color: #7f7f7f\">:</span><a href=\"file:///home/lucas/micromamba/envs/mangoustan/lib/python3.9/site-packages/tidy3d/components/simulation.py#519\" target=\"_blank\"><span style=\"color: #7f7f7f; text-decoration-color: #7f7f7f\">519</span></a>\n",
       "</pre>\n"
      ],
      "text/plain": [
       "\u001b[2;36m[05:23:14]\u001b[0m\u001b[2;36m \u001b[0m\u001b[31mWARNING \u001b[0m No sources in simulation.                                                     \u001b]8;id=525127;file:///home/lucas/micromamba/envs/mangoustan/lib/python3.9/site-packages/tidy3d/components/simulation.py\u001b\\\u001b[2msimulation.py\u001b[0m\u001b]8;;\u001b\\\u001b[2m:\u001b[0m\u001b]8;id=605271;file:///home/lucas/micromamba/envs/mangoustan/lib/python3.9/site-packages/tidy3d/components/simulation.py#519\u001b\\\u001b[2m519\u001b[0m\u001b]8;;\u001b\\\n"
      ]
     },
     "metadata": {},
     "output_type": "display_data"
    },
    {
     "data": {
      "image/png": "[encoded data removed]",
      "text/plain": [
       "<Figure size 640x480 with 1 Axes>"
      ]
     },
     "metadata": {},
     "output_type": "display_data"
    }
   ],
   "source": [
    "waveguide = td.Structure(\n",
    "    geometry=td.Box(size=(wg_width, td.inf, wg_height)),\n",
    "    medium=td.Medium(permittivity=wg_permittivity),\n",
    ")\n",
    "\n",
    "sim = td.Simulation(\n",
    "    size=(Lx, Ly, Lz),\n",
    "    grid_spec=grid_spec,\n",
    "    structures=[waveguide],\n",
    "    run_time=run_time,\n",
    "    boundary_spec=td.BoundarySpec.all_sides(boundary=td.Periodic()),\n",
    ")\n",
    "\n",
    "ax = sim.plot(z=0)\n"
   ]
  },
  {
   "cell_type": "markdown",
   "id": "6214a935",
   "metadata": {},
   "source": [
    "## Initialize Mode Solver\n",
    "\n",
    "With our system defined, we can now create our mode solver. We first need to specify on what plane we want to solve the modes using a `td.Box()` object."
   ]
  },
  {
   "cell_type": "code",
   "execution_count": 7,
   "id": "2a92dc3e",
   "metadata": {
    "execution": {
     "iopub.execute_input": "2023-03-01T19:49:03.454307Z",
     "iopub.status.busy": "2023-03-01T19:49:03.454156Z",
     "iopub.status.idle": "2023-03-01T19:49:03.470644Z",
     "shell.execute_reply": "2023-03-01T19:49:03.470120Z"
    },
    "tags": []
   },
   "outputs": [],
   "source": [
    "plane = td.Box(center=(0, 0, 0), size=(4, 0, 3.5))\n"
   ]
  },
  {
   "cell_type": "markdown",
   "id": "e2f289a9",
   "metadata": {},
   "source": [
    "The mode solver can now compute the modes given a `ModeSpec` object that specifies everything about the modes we're looking for, for example:\n",
    "\n",
    "- `num_modes`: how many modes to compute.\n",
    "\n",
    "- `target_neff`: float, default=None, initial guess for the effective index of the mode; if not specified, the modes with the largest real part of the effective index are computed.\n",
    "\n",
    "The full list of specification parameters can be found [here](../_autosummary/tidy3d.ModeSpec.html#tidy3d.ModeSpec)."
   ]
  },
  {
   "cell_type": "code",
   "execution_count": 10,
   "id": "a87e86c0",
   "metadata": {
    "execution": {
     "iopub.execute_input": "2023-03-01T19:49:03.472722Z",
     "iopub.status.busy": "2023-03-01T19:49:03.472574Z",
     "iopub.status.idle": "2023-03-01T19:49:03.489130Z",
     "shell.execute_reply": "2023-03-01T19:49:03.488586Z"
    },
    "tags": []
   },
   "outputs": [],
   "source": [
    "mode_spec = td.ModeSpec(\n",
    "    num_modes=3,\n",
    "    target_neff=2.0,\n",
    ")\n"
   ]
  },
  {
   "cell_type": "markdown",
   "id": "dba7911a",
   "metadata": {},
   "source": [
    "We can also specify a list of frequencies at which to solvefor the modes."
   ]
  },
  {
   "cell_type": "code",
   "execution_count": 11,
   "id": "fddf6735",
   "metadata": {
    "execution": {
     "iopub.execute_input": "2023-03-01T19:49:03.491798Z",
     "iopub.status.busy": "2023-03-01T19:49:03.491616Z",
     "iopub.status.idle": "2023-03-01T19:49:03.507841Z",
     "shell.execute_reply": "2023-03-01T19:49:03.507293Z"
    }
   },
   "outputs": [],
   "source": [
    "num_freqs = 11\n",
    "f0_ind = num_freqs // 2\n",
    "freqs = np.linspace(freq0 - fwidth / 2, freq0 + fwidth / 2, num_freqs)\n"
   ]
  },
  {
   "cell_type": "markdown",
   "id": "eb12573c",
   "metadata": {},
   "source": [
    "Finally, we can initialize the `ModeSolver`, and call the solve method."
   ]
  },
  {
   "cell_type": "code",
   "execution_count": 12,
   "id": "a1656378",
   "metadata": {
    "execution": {
     "iopub.execute_input": "2023-03-01T19:49:03.510423Z",
     "iopub.status.busy": "2023-03-01T19:49:03.510273Z",
     "iopub.status.idle": "2023-03-01T19:49:08.197553Z",
     "shell.execute_reply": "2023-03-01T19:49:08.196965Z"
    }
   },
   "outputs": [],
   "source": [
    "mode_solver = ModeSolver(\n",
    "    simulation=sim,\n",
    "    plane=plane,\n",
    "    mode_spec=mode_spec,\n",
    "    freqs=freqs,\n",
    ")\n",
    "mode_data = mode_solver.solve()\n"
   ]
  },
  {
   "cell_type": "markdown",
   "id": "270eb533",
   "metadata": {},
   "source": [
    "## Visualizing Mode Data\n",
    "\n",
    "The `mode_info` object contains information about the effective index of the mode and the field profiles, as well as the `mode_spec` that was used in the solver. The effective index data and the field profile data is in the form of xarray DataArrays.\n",
    "\n",
    "We can for example plot the real part of the effective index for all three modes as follows."
   ]
  },
  {
   "cell_type": "code",
   "execution_count": 13,
   "id": "e051faab",
   "metadata": {
    "execution": {
     "iopub.execute_input": "2023-03-01T19:49:08.200174Z",
     "iopub.status.busy": "2023-03-01T19:49:08.200019Z",
     "iopub.status.idle": "2023-03-01T19:49:08.349949Z",
     "shell.execute_reply": "2023-03-01T19:49:08.349369Z"
    }
   },
   "outputs": [
    {
     "data": {
      "text/plain": [
       "[<matplotlib.lines.Line2D at 0x7f513bdd9220>,\n",
       " <matplotlib.lines.Line2D at 0x7f513bdd9070>,\n",
       " <matplotlib.lines.Line2D at 0x7f513bdd9160>]"
      ]
     },
     "execution_count": 13,
     "metadata": {},
     "output_type": "execute_result"
    },
    {
     "data": {
      "image/png": "[encoded data removed]",
      "text/plain": [
       "<Figure size 640x480 with 1 Axes>"
      ]
     },
     "metadata": {},
     "output_type": "display_data"
    }
   ],
   "source": [
    "fig, ax = plt.subplots(1)\n",
    "n_eff = mode_data.n_eff  # real part of the effective mode index\n",
    "n_eff.plot.line(x=\"f\")\n"
   ]
  },
  {
   "cell_type": "markdown",
   "id": "cf0d2045",
   "metadata": {},
   "source": [
    "The raw data can also be accessed."
   ]
  },
  {
   "cell_type": "code",
   "execution_count": 14,
   "id": "356bc255",
   "metadata": {
    "execution": {
     "iopub.execute_input": "2023-03-01T19:49:08.352264Z",
     "iopub.status.busy": "2023-03-01T19:49:08.352120Z",
     "iopub.status.idle": "2023-03-01T19:49:08.369040Z",
     "shell.execute_reply": "2023-03-01T19:49:08.368512Z"
    },
    "tags": []
   },
   "outputs": [
    {
     "name": "stdout",
     "output_type": "stream",
     "text": [
      "first mode effective index at freq0: n_eff = 1.77, k_eff = 0.00e+00\n"
     ]
    }
   ],
   "source": [
    "n_complex = mode_data.n_complex  # complex effective index as a DataArray\n",
    "n_eff = mode_data.n_eff.values  # real part of the effective index as numpy array\n",
    "k_eff = mode_data.k_eff.values  # imag part of the effective index as numpy array\n",
    "\n",
    "print(\n",
    "    f\"first mode effective index at freq0: n_eff = {n_eff[f0_ind, 0]:.2f}, k_eff = {k_eff[f0_ind, 0]:.2e}\"\n",
    ")\n"
   ]
  },
  {
   "cell_type": "markdown",
   "id": "ac9ef151",
   "metadata": {},
   "source": [
    "The fields stored in `mode_data` can be visualized using in-built xarray methods."
   ]
  },
  {
   "cell_type": "code",
   "execution_count": 15,
   "id": "3b27d122",
   "metadata": {
    "execution": {
     "iopub.execute_input": "2023-03-01T19:49:08.371255Z",
     "iopub.status.busy": "2023-03-01T19:49:08.371114Z",
     "iopub.status.idle": "2023-03-01T19:49:08.761151Z",
     "shell.execute_reply": "2023-03-01T19:49:08.760577Z"
    },
    "tags": []
   },
   "outputs": [
    {
     "data": {
      "image/png": "[encoded data removed]",
      "text/plain": [
       "<Figure size 1000x300 with 4 Axes>"
      ]
     },
     "metadata": {},
     "output_type": "display_data"
    }
   ],
   "source": [
    "f, (ax1, ax2) = plt.subplots(1, 2, tight_layout=True, figsize=(10, 3))\n",
    "abs(mode_data.Ex.isel(mode_index=0, f=f0_ind)).plot(x=\"x\", y=\"z\", ax=ax1, cmap=\"magma\")\n",
    "abs(mode_data.Ez.isel(mode_index=0, f=f0_ind)).plot(x=\"x\", y=\"z\", ax=ax2, cmap=\"magma\")\n",
    "\n",
    "ax1.set_title(\"|Ex(x, y)|\")\n",
    "ax1.set_aspect(\"equal\")\n",
    "ax2.set_title(\"|Ez(x, y)|\")\n",
    "ax2.set_aspect(\"equal\")\n",
    "plt.show()\n"
   ]
  },
  {
   "cell_type": "markdown",
   "id": "f6a1a024",
   "metadata": {},
   "source": [
    "Alternatively, we can use the in-built ``plot_field`` method of ``mode_data``, which also allows us to overlay the structures in the simulation. The image also looks slightly different because we have set ``robust=True`` by default, which scales the colorbar to between the 2nd and 98th percentile of the data."
   ]
  },
  {
   "cell_type": "code",
   "execution_count": 16,
   "id": "62c2f269",
   "metadata": {
    "execution": {
     "iopub.execute_input": "2023-03-01T19:49:08.763499Z",
     "iopub.status.busy": "2023-03-01T19:49:08.763350Z",
     "iopub.status.idle": "2023-03-01T19:49:09.358455Z",
     "shell.execute_reply": "2023-03-01T19:49:09.357820Z"
    }
   },
   "outputs": [
    {
     "data": {
      "text/html": [
       "<pre style=\"white-space:pre;overflow-x:auto;line-height:normal;font-family:Menlo,'DejaVu Sans Mono',consolas,'Courier New',monospace\"><span style=\"color: #7fbfbf; text-decoration-color: #7fbfbf\">[05:23:57] </span><span style=\"color: #800000; text-decoration-color: #800000\">WARNING </span> No sources in simulation.                                                     <a href=\"file:///home/lucas/micromamba/envs/mangoustan/lib/python3.9/site-packages/tidy3d/components/simulation.py\" target=\"_blank\"><span style=\"color: #7f7f7f; text-decoration-color: #7f7f7f\">simulation.py</span></a><span style=\"color: #7f7f7f; text-decoration-color: #7f7f7f\">:</span><a href=\"file:///home/lucas/micromamba/envs/mangoustan/lib/python3.9/site-packages/tidy3d/components/simulation.py#519\" target=\"_blank\"><span style=\"color: #7f7f7f; text-decoration-color: #7f7f7f\">519</span></a>\n",
       "</pre>\n"
      ],
      "text/plain": [
       "\u001b[2;36m[05:23:57]\u001b[0m\u001b[2;36m \u001b[0m\u001b[31mWARNING \u001b[0m No sources in simulation.                                                     \u001b]8;id=558178;file:///home/lucas/micromamba/envs/mangoustan/lib/python3.9/site-packages/tidy3d/components/simulation.py\u001b\\\u001b[2msimulation.py\u001b[0m\u001b]8;;\u001b\\\u001b[2m:\u001b[0m\u001b]8;id=334080;file:///home/lucas/micromamba/envs/mangoustan/lib/python3.9/site-packages/tidy3d/components/simulation.py#519\u001b\\\u001b[2m519\u001b[0m\u001b]8;;\u001b\\\n"
      ]
     },
     "metadata": {},
     "output_type": "display_data"
    },
    {
     "data": {
      "image/png": "[encoded data removed]",
      "text/plain": [
       "<Figure size 1000x300 with 4 Axes>"
      ]
     },
     "metadata": {},
     "output_type": "display_data"
    }
   ],
   "source": [
    "f, (ax1, ax2) = plt.subplots(1, 2, tight_layout=True, figsize=(10, 3))\n",
    "mode_solver.plot_field(\"Ex\", \"abs\", mode_index=0, f=freq0, ax=ax1)\n",
    "mode_solver.plot_field(\"Ez\", \"abs\", mode_index=0, f=freq0, ax=ax2)\n",
    "plt.show()\n"
   ]
  },
  {
   "cell_type": "markdown",
   "id": "706a01ca",
   "metadata": {},
   "source": [
    "## Choosing the mode of interest\n",
    "\n",
    "We can also look at the other modes that were computed."
   ]
  },
  {
   "cell_type": "code",
   "execution_count": 17,
   "id": "4345ce13",
   "metadata": {
    "execution": {
     "iopub.execute_input": "2023-03-01T19:49:09.361180Z",
     "iopub.status.busy": "2023-03-01T19:49:09.360954Z",
     "iopub.status.idle": "2023-03-01T19:49:09.976335Z",
     "shell.execute_reply": "2023-03-01T19:49:09.975823Z"
    },
    "tags": []
   },
   "outputs": [
    {
     "data": {
      "image/png": "[encoded data removed]",
      "text/plain": [
       "<Figure size 1000x300 with 4 Axes>"
      ]
     },
     "metadata": {},
     "output_type": "display_data"
    }
   ],
   "source": [
    "mode_index = 1\n",
    "f, (ax1, ax2) = plt.subplots(1, 2, tight_layout=True, figsize=(10, 3))\n",
    "mode_solver.plot_field(\"Ex\", \"abs\", mode_index=mode_index, f=freq0, ax=ax1)\n",
    "mode_solver.plot_field(\"Ez\", \"abs\", mode_index=mode_index, f=freq0, ax=ax2)\n",
    "plt.show()\n"
   ]
  },
  {
   "cell_type": "markdown",
   "id": "411d2a62",
   "metadata": {},
   "source": [
    "This looks like an Ez-dominant mode. Finally, next-order mode has mixed polarization."
   ]
  },
  {
   "cell_type": "code",
   "execution_count": 18,
   "id": "d2bb0c31",
   "metadata": {
    "execution": {
     "iopub.execute_input": "2023-03-01T19:49:09.978405Z",
     "iopub.status.busy": "2023-03-01T19:49:09.978218Z",
     "iopub.status.idle": "2023-03-01T19:49:10.656210Z",
     "shell.execute_reply": "2023-03-01T19:49:10.655676Z"
    },
    "tags": []
   },
   "outputs": [
    {
     "data": {
      "image/png": "[encoded data removed]",
      "text/plain": [
       "<Figure size 1000x300 with 4 Axes>"
      ]
     },
     "metadata": {},
     "output_type": "display_data"
    }
   ],
   "source": [
    "mode_index = 2\n",
    "f, (ax1, ax2) = plt.subplots(1, 2, tight_layout=True, figsize=(10, 3))\n",
    "mode_solver.plot_field(\"Ex\", \"abs\", mode_index=mode_index, f=freq0, ax=ax1)\n",
    "mode_solver.plot_field(\"Ez\", \"abs\", mode_index=mode_index, f=freq0, ax=ax2)\n",
    "plt.show()\n"
   ]
  },
  {
   "cell_type": "markdown",
   "id": "2e220cf2",
   "metadata": {},
   "source": [
    "## Exporting Results\n",
    "\n",
    "This looks promising!\n",
    "\n",
    "Now we can choose the mode specifications to use in our mode source and mode monitors. These can be created separately, can be exported directly from the mode solver, for example:"
   ]
  },
  {
   "cell_type": "code",
   "execution_count": 19,
   "id": "32d20a0b",
   "metadata": {
    "execution": {
     "iopub.execute_input": "2023-03-01T19:49:10.658241Z",
     "iopub.status.busy": "2023-03-01T19:49:10.658084Z",
     "iopub.status.idle": "2023-03-01T19:49:10.678265Z",
     "shell.execute_reply": "2023-03-01T19:49:10.677764Z"
    },
    "tags": []
   },
   "outputs": [],
   "source": [
    "# Makes a modal source with geometry of `plane` with modes specified by `mode_spec` and a selected `mode_index`\n",
    "source_time = td.GaussianPulse(freq0=freq0, fwidth=fwidth)\n",
    "mode_src = mode_solver.to_source(mode_index=2, source_time=source_time, direction=\"-\")\n",
    "\n",
    "# Makes a mode monitor with geometry of `plane`.\n",
    "mode_mon = mode_solver.to_monitor(name=\"mode\", freqs=freqs)\n",
    "# Offset the monitor along the propagation direction\n",
    "mode_mon = mode_mon.copy(update=dict(center=(0, -2, 0)))\n"
   ]
  },
  {
   "cell_type": "code",
   "execution_count": 20,
   "id": "4cd19f9a",
   "metadata": {
    "execution": {
     "iopub.execute_input": "2023-03-01T19:49:10.680602Z",
     "iopub.status.busy": "2023-03-01T19:49:10.680391Z",
     "iopub.status.idle": "2023-03-01T19:49:10.948483Z",
     "shell.execute_reply": "2023-03-01T19:49:10.947935Z"
    },
    "tags": []
   },
   "outputs": [
    {
     "data": {
      "text/plain": [
       "<Axes: title={'center': 'cross section at z=0.00'}, xlabel='x', ylabel='y'>"
      ]
     },
     "execution_count": 20,
     "metadata": {},
     "output_type": "execute_result"
    },
    {
     "data": {
      "image/png": "[encoded data removed]",
      "text/plain": [
       "<Figure size 640x480 with 1 Axes>"
      ]
     },
     "metadata": {},
     "output_type": "display_data"
    }
   ],
   "source": [
    "# In-plane field monitor, slightly offset along x\n",
    "monitor = td.FieldMonitor(\n",
    "    center=(0, 0, 0.1), size=(td.inf, td.inf, 0), freqs=[freq0], name=\"field\"\n",
    ")\n",
    "\n",
    "sim = td.Simulation(\n",
    "    size=(Lx, Ly, Lz),\n",
    "    grid_spec=grid_spec,\n",
    "    run_time=run_time,\n",
    "    boundary_spec=td.BoundarySpec.all_sides(boundary=td.PML()),\n",
    "    structures=[waveguide],\n",
    "    sources=[mode_src],\n",
    "    monitors=[monitor, mode_mon],\n",
    ")\n",
    "\n",
    "sim.plot(z=0)\n"
   ]
  },
  {
   "cell_type": "code",
   "execution_count": 21,
   "id": "4fb1f4a3",
   "metadata": {},
   "outputs": [
    {
     "ename": "SyntaxError",
     "evalue": "invalid syntax (2389114725.py, line 1)",
     "output_type": "error",
     "traceback": [
      "\u001b[0;36m  Cell \u001b[0;32mIn[21], line 1\u001b[0;36m\u001b[0m\n\u001b[0;31m    assert\u001b[0m\n\u001b[0m          ^\u001b[0m\n\u001b[0;31mSyntaxError\u001b[0m\u001b[0;31m:\u001b[0m invalid syntax\n"
     ]
    }
   ],
   "source": [
    "assert"
   ]
  },
  {
   "cell_type": "code",
   "execution_count": null,
   "id": "a4250bd4",
   "metadata": {
    "execution": {
     "iopub.execute_input": "2023-03-01T19:49:10.950861Z",
     "iopub.status.busy": "2023-03-01T19:49:10.950700Z",
     "iopub.status.idle": "2023-03-01T19:49:48.604459Z",
     "shell.execute_reply": "2023-03-01T19:49:48.603926Z"
    }
   },
   "outputs": [],
   "source": [
    "#job = web.Job(simulation=sim, task_name=\"mode_simulation\")\n",
    "#sim_data = job.run(path=\"data/simulation_data.hdf5\")\n"
   ]
  },
  {
   "cell_type": "markdown",
   "id": "acac7b19",
   "metadata": {},
   "source": [
    "We can now plot the in-plane field and the modal amplitudes. Since we injected mode 2 and we just have a straight waveguide, all the power recorded by the modal monitor is in mode 2, going backwards."
   ]
  },
  {
   "cell_type": "code",
   "execution_count": null,
   "id": "4d8425d3",
   "metadata": {
    "execution": {
     "iopub.execute_input": "2023-03-01T19:49:49.555629Z",
     "iopub.status.busy": "2023-03-01T19:49:49.555493Z",
     "iopub.status.idle": "2023-03-01T19:49:50.103360Z",
     "shell.execute_reply": "2023-03-01T19:49:50.102755Z"
    }
   },
   "outputs": [],
   "source": [
    "fig, ax = plt.subplots(1, 2, figsize=(10, 4))\n",
    "sim_data.plot_field(\"field\", \"Ez\", f=freq0, ax=ax[0])\n",
    "sim_data[\"mode\"].amps.sel(direction=\"-\").abs.plot.line(x=\"f\", ax=ax[1])\n"
   ]
  },
  {
   "cell_type": "markdown",
   "id": "e3a50f61",
   "metadata": {},
   "source": [
    "## Storing server-side computed modes\n",
    "\n",
    "We can also use a `ModeSolverMonitor` to store the modes as they are computed server-side. This is illustrated below. We will also request in the mode specification that the modes are filtered by their `tm` polarization. In this particular simulation, TM refers to `Ez` polarization. The effect of the filtering is that modes with a `tm` polarization fraction larger than or equal to 0.5 will come first in the list of modes (while still ordered by decreasing effective index). After that, the set of predominantly `te`-polarized modes (`tm` fraction < 0.5) follows."
   ]
  },
  {
   "cell_type": "code",
   "execution_count": null,
   "id": "4cb3fdb9",
   "metadata": {
    "execution": {
     "iopub.execute_input": "2023-03-01T19:49:50.105447Z",
     "iopub.status.busy": "2023-03-01T19:49:50.105267Z",
     "iopub.status.idle": "2023-03-01T19:49:50.125143Z",
     "shell.execute_reply": "2023-03-01T19:49:50.124578Z"
    }
   },
   "outputs": [],
   "source": [
    "mode_spec = mode_spec.copy(update=dict(filter_pol=\"tm\"))\n",
    "\n",
    "# Update mode source to use the highest-tm-fraction mode\n",
    "mode_src = mode_src.copy(update=dict(mode_spec=mode_spec))\n",
    "mode_src = mode_src.copy(update=dict(mode_index=0))\n",
    "\n",
    "# Update mode monitor to use the tm_fraction ordered mode_spec\n",
    "mode_mon = mode_mon.copy(update=dict(mode_spec=mode_spec))\n",
    "\n",
    "# New monitor to record the modes computed at the mode decomposition monitor location\n",
    "mode_solver_mon = td.ModeSolverMonitor(\n",
    "    center=mode_mon.center,\n",
    "    size=mode_mon.size,\n",
    "    freqs=mode_mon.freqs,\n",
    "    mode_spec=mode_spec,\n",
    "    name=\"mode_solver\",\n",
    ")\n",
    "\n",
    "sim = td.Simulation(\n",
    "    size=(Lx, Ly, Lz),\n",
    "    grid_spec=grid_spec,\n",
    "    run_time=run_time,\n",
    "    boundary_spec=td.BoundarySpec.all_sides(boundary=td.PML()),\n",
    "    structures=[waveguide],\n",
    "    sources=[mode_src],\n",
    "    monitors=[monitor, mode_mon, mode_solver_mon],\n",
    ")\n"
   ]
  },
  {
   "cell_type": "code",
   "execution_count": null,
   "id": "6d86abc0",
   "metadata": {
    "execution": {
     "iopub.execute_input": "2023-03-01T19:49:50.127052Z",
     "iopub.status.busy": "2023-03-01T19:49:50.126880Z",
     "iopub.status.idle": "2023-03-01T19:50:10.348465Z",
     "shell.execute_reply": "2023-03-01T19:50:10.347953Z"
    }
   },
   "outputs": [],
   "source": [
    "job = web.Job(simulation=sim, task_name=\"mode_simulation\")\n",
    "sim_data = job.run(path=\"data/simulation_data.hdf5\")\n"
   ]
  },
  {
   "cell_type": "markdown",
   "id": "fd7d383e",
   "metadata": {},
   "source": [
    "Note the different ordering of the recorded modes compared to what we saw above, with the fundamental TM mode coming first."
   ]
  },
  {
   "cell_type": "code",
   "execution_count": null,
   "id": "09f13155",
   "metadata": {
    "execution": {
     "iopub.execute_input": "2023-03-01T19:50:10.775115Z",
     "iopub.status.busy": "2023-03-01T19:50:10.774661Z",
     "iopub.status.idle": "2023-03-01T19:50:10.953180Z",
     "shell.execute_reply": "2023-03-01T19:50:10.952651Z"
    }
   },
   "outputs": [],
   "source": [
    "fig, ax = plt.subplots(1)\n",
    "n_eff = sim_data[\"mode\"].n_eff  # real part of the effective mode index\n",
    "n_eff.plot.line(x=\"f\")\n"
   ]
  },
  {
   "cell_type": "markdown",
   "id": "37483bc2",
   "metadata": {},
   "source": [
    "Now the fundamental Ez-polarized mode is injected, and as before it is the only one that the mode monitor records any intensity in."
   ]
  },
  {
   "cell_type": "code",
   "execution_count": null,
   "id": "c169a724",
   "metadata": {
    "execution": {
     "iopub.execute_input": "2023-03-01T19:50:10.955149Z",
     "iopub.status.busy": "2023-03-01T19:50:10.954966Z",
     "iopub.status.idle": "2023-03-01T19:50:11.525941Z",
     "shell.execute_reply": "2023-03-01T19:50:11.525265Z"
    }
   },
   "outputs": [],
   "source": [
    "fig, ax = plt.subplots(1, 2, figsize=(10, 4))\n",
    "sim_data.plot_field(\"field\", \"Ez\", f=freq0, ax=ax[0])\n",
    "sim_data[\"mode\"].amps.sel(direction=\"-\").abs.plot.line(x=\"f\", ax=ax[1])\n"
   ]
  },
  {
   "cell_type": "markdown",
   "id": "6e9e49c1",
   "metadata": {},
   "source": [
    "We can also have a look at the mode fields stored in the `ModeFieldMonitor` either directly using xarray methods as above, or using the Tidy3D `SimulationData` in-built field plotting."
   ]
  },
  {
   "cell_type": "code",
   "execution_count": null,
   "id": "ebe430c7",
   "metadata": {
    "execution": {
     "iopub.execute_input": "2023-03-01T19:50:11.528403Z",
     "iopub.status.busy": "2023-03-01T19:50:11.528239Z",
     "iopub.status.idle": "2023-03-01T19:50:12.197525Z",
     "shell.execute_reply": "2023-03-01T19:50:12.196909Z"
    }
   },
   "outputs": [],
   "source": [
    "fig, ax = plt.subplots(1, 2, figsize=(12, 4))\n",
    "sim_data.plot_field(\"mode_solver\", \"Ex\", f=freq0, val=\"abs\", mode_index=0, ax=ax[0])\n",
    "sim_data.plot_field(\"mode_solver\", \"Ez\", f=freq0, val=\"abs\", mode_index=0, ax=ax[1])\n"
   ]
  },
  {
   "cell_type": "markdown",
   "id": "a03ff334-7291-4202-9897-385d046c8f8a",
   "metadata": {},
   "source": [
    "## Mode tracking\n",
    "\n",
    "As typical for eigenvalue type solvers the Tidy3D's mode solver returns calculated modes in the order corresponding to the magnitudes of the found eigenvalues (effective index). Since the effective index of a mode generally depends on frequency and can become larger or smaller in magnitude compared to the effective index values of other modes, the same `mode_index` value in the returned mode solver data may correspond to physically different modes for different frequencies. To avoid such a mismatch `ModeSolver` by default performs sorting of modes based on their overlap values (see [discussion on mode decomposition](../notebooks/Modal_sources_monitors.html#Mode-monitors)), that is, modes at one frequency are matched to the most similar modes at the other frequency. This behavior is controlled by the parameter `track_freq` of `ModeSpec` object. It can be set to either `None`, `\"lowest\"`, `\"central\"` (default), or `\"highest\"`, where in the first case no sorting is performed while in the other three cases sorting is performed starting from the specified frequency. Additionally, any unsorted mode solver data (objects of type `ModeSolverData`) returned by `ModeSolver.solve()` can be sorted afterwards by using function `ModeSolverData.overlap_sort()`. This function takes in arguments `track_freq` (default: `\"central\"`), which has the same meaning as in `ModeSpec`, and `overlap_thresh` (default: 0.9) that defines the threshold overlap value above which a pair of spatial fields is considered to correspond to physically the same mode. While this functionality is not expected to be used in the most cases, we still demonstrate it here to provide a more clear understanding of `ModeSolver` results. Note that for mode sources and mode monitors sorting is always performed internally.\n",
    "\n",
    "We start with calculating twelve modes at eleven different frequencies for a layered waveguide with the default sorting turned off."
   ]
  },
  {
   "cell_type": "code",
   "execution_count": null,
   "id": "24625b82-fafe-4667-9896-08b12d768681",
   "metadata": {
    "execution": {
     "iopub.execute_input": "2023-03-01T19:50:12.199552Z",
     "iopub.status.busy": "2023-03-01T19:50:12.199379Z",
     "iopub.status.idle": "2023-03-01T19:50:12.427420Z",
     "shell.execute_reply": "2023-03-01T19:50:12.426843Z"
    },
    "tags": []
   },
   "outputs": [],
   "source": [
    "# bottom layer\n",
    "bottom = td.Structure(\n",
    "    geometry=td.Box(\n",
    "        center=(0, 0, -0.8 * wg_height), size=(wg_width, td.inf, wg_height)\n",
    "    ),\n",
    "    medium=td.Medium(permittivity=wg_permittivity * 2),\n",
    ")\n",
    "\n",
    "# top layer\n",
    "top = td.Structure(\n",
    "    geometry=td.Box(\n",
    "        center=(0, 0, 0.7 * wg_height), size=(wg_width, td.inf, wg_height * 0.8)\n",
    "    ),\n",
    "    medium=td.Medium(permittivity=wg_permittivity * 2),\n",
    ")\n",
    "\n",
    "# new simulation object\n",
    "sim = td.Simulation(\n",
    "    size=(Lx, Ly, Lz),\n",
    "    grid_spec=grid_spec,\n",
    "    structures=[waveguide, bottom, top],\n",
    "    run_time=run_time,\n",
    "    boundary_spec=td.BoundarySpec.all_sides(boundary=td.Periodic()),\n",
    ")\n",
    "\n",
    "# visualize\n",
    "sim.plot(y=0)\n"
   ]
  },
  {
   "cell_type": "code",
   "execution_count": null,
   "id": "fe98731f-5a6c-41d6-af92-3fb7a1e09f95",
   "metadata": {
    "execution": {
     "iopub.execute_input": "2023-03-01T19:50:12.429555Z",
     "iopub.status.busy": "2023-03-01T19:50:12.429363Z",
     "iopub.status.idle": "2023-03-01T19:50:28.943503Z",
     "shell.execute_reply": "2023-03-01T19:50:28.942829Z"
    }
   },
   "outputs": [],
   "source": [
    "# set mode spec to find 12 modes and turn off automatic mode tracking\n",
    "mode_spec = td.ModeSpec(num_modes=12, track_freq=None)\n",
    "\n",
    "# we will use a larger solver plane for this structure\n",
    "plane = td.Box(center=(0, 0, 0), size=(10, 0, 10))\n",
    "\n",
    "# 11 frequencies in +/- fwidth range\n",
    "num_freqs = 11\n",
    "freqs = np.linspace(freq0 - fwidth, freq0 + fwidth, num_freqs)\n",
    "\n",
    "# make new mode solver object and solve for modes\n",
    "mode_solver = ModeSolver(\n",
    "    simulation=sim,\n",
    "    plane=plane,\n",
    "    mode_spec=mode_spec,\n",
    "    freqs=freqs,\n",
    ")\n",
    "mode_data = mode_solver.solve()\n"
   ]
  },
  {
   "cell_type": "markdown",
   "id": "db6efc55-4957-4573-9d6a-60c4a154cd42",
   "metadata": {},
   "source": [
    "By inspecting the values of effective indices we note that some of them come very close to each other, which is a sign that some mode index values might not correspond to the same modes throughout the considered frequency range."
   ]
  },
  {
   "cell_type": "code",
   "execution_count": null,
   "id": "96ad19e0-c987-4dbf-8040-aa98746f10c6",
   "metadata": {
    "execution": {
     "iopub.execute_input": "2023-03-01T19:50:28.946248Z",
     "iopub.status.busy": "2023-03-01T19:50:28.946077Z",
     "iopub.status.idle": "2023-03-01T19:50:29.145061Z",
     "shell.execute_reply": "2023-03-01T19:50:29.144463Z"
    }
   },
   "outputs": [],
   "source": [
    "fig, ax = plt.subplots(1)\n",
    "n_eff = mode_data.n_eff  # real part of the effective mode index\n",
    "n_eff.plot.line(\".-\", x=\"f\")\n",
    "plt.show()\n"
   ]
  },
  {
   "cell_type": "markdown",
   "id": "6055465a-b311-4ef6-a369-e86c39cab4f6",
   "metadata": {},
   "source": [
    "Indeed, by plotting field distributions for the calculated modes we see mixing of modes for `mode_index` > 4."
   ]
  },
  {
   "cell_type": "code",
   "execution_count": null,
   "id": "e516a125-2fc9-48b1-b5ff-cc0c0a8c694f",
   "metadata": {
    "execution": {
     "iopub.execute_input": "2023-03-01T19:50:29.146977Z",
     "iopub.status.busy": "2023-03-01T19:50:29.146829Z",
     "iopub.status.idle": "2023-03-01T19:50:31.626536Z",
     "shell.execute_reply": "2023-03-01T19:50:31.625971Z"
    }
   },
   "outputs": [],
   "source": [
    "fig, ax = plt.subplots(\n",
    "    mode_spec.num_modes,\n",
    "    len(freqs),\n",
    "    tight_layout=True,\n",
    "    figsize=(len(freqs), mode_spec.num_modes),\n",
    ")\n",
    "for j in range(mode_spec.num_modes):\n",
    "    for i, freq in enumerate(freqs):\n",
    "        # mode_solver.plot_field(\"int\", mode_index=j, f=freq, ax=ax[j, i])\n",
    "        ax[j, i].imshow(\n",
    "            mode_data.Ex.isel(mode_index=j, f=i, drop=True).squeeze().abs.T,\n",
    "            cmap=\"magma\",\n",
    "            origin=\"lower\",\n",
    "        )\n",
    "        ax[j, i].axis(\"off\")\n",
    "plt.show()\n"
   ]
  },
  {
   "cell_type": "markdown",
   "id": "56c557d7-7b76-4113-b43b-51437a5b6f85",
   "metadata": {},
   "source": [
    "This situation can be remedied by using `overlap_sort()` function as follows."
   ]
  },
  {
   "cell_type": "code",
   "execution_count": null,
   "id": "bbfba9cb-34f2-4063-90ba-1f888ae89777",
   "metadata": {
    "execution": {
     "iopub.execute_input": "2023-03-01T19:50:31.631641Z",
     "iopub.status.busy": "2023-03-01T19:50:31.631492Z",
     "iopub.status.idle": "2023-03-01T19:50:33.608995Z",
     "shell.execute_reply": "2023-03-01T19:50:33.608412Z"
    },
    "tags": []
   },
   "outputs": [],
   "source": [
    "mode_data_sorted = mode_data.overlap_sort(track_freq=\"central\")\n"
   ]
  },
  {
   "cell_type": "markdown",
   "id": "fda9e86a-3baa-4d75-9f2d-83270b884629",
   "metadata": {},
   "source": [
    "Plotting the same information as previously one can confirm that modes are matching now as closely as possible."
   ]
  },
  {
   "cell_type": "code",
   "execution_count": null,
   "id": "ef04ae6c-5251-401f-b81d-d6ef1d7510f2",
   "metadata": {
    "execution": {
     "iopub.execute_input": "2023-03-01T19:50:33.611195Z",
     "iopub.status.busy": "2023-03-01T19:50:33.611052Z",
     "iopub.status.idle": "2023-03-01T19:50:36.328812Z",
     "shell.execute_reply": "2023-03-01T19:50:36.328243Z"
    }
   },
   "outputs": [],
   "source": [
    "n_eff_sorted = mode_data_sorted.n_eff  # real part of the effective mode index\n",
    "n_eff_sorted.plot.line(x=\"f\")\n",
    "plt.show()\n",
    "\n",
    "fig, ax = plt.subplots(\n",
    "    mode_spec.num_modes,\n",
    "    len(freqs),\n",
    "    tight_layout=True,\n",
    "    figsize=(len(freqs), mode_spec.num_modes),\n",
    ")\n",
    "for j in range(mode_spec.num_modes):\n",
    "    for i, freq in enumerate(freqs):\n",
    "        ax[j, i].imshow(\n",
    "            mode_data_sorted.Ex.isel(mode_index=j, f=i, drop=True).squeeze().abs.T,\n",
    "            cmap=\"magma\",\n",
    "            origin=\"lower\",\n",
    "        )\n",
    "        ax[j, i].axis(\"off\")\n",
    "plt.show()\n"
   ]
  },
  {
   "cell_type": "markdown",
   "id": "e5ce0939-69b3-4768-9ec2-fe01527a98f3",
   "metadata": {},
   "source": [
    "Note that depending on particular situation the mode sorting, whether default or by hands, might not succesfully resolve tracking of all modes throughout the chosen frequency range. Among possible reasons for that: \n",
    "- A mode is physically disappearing at a certain frequency point.\n",
    "- A mode is not included in calculated number of modes, `num_modes`, for certain frequency points. In this case increasing `num_modes` might alleviate the issue.\n",
    "- Presence of degenerate modes at certain frequencies."
   ]
  },
  {
   "cell_type": "markdown",
   "id": "2c1f64f9",
   "metadata": {},
   "source": [
    "## Notes / Considerations\n",
    "\n",
    "- This mode solver runs locally, which means it does not require credits to run.\n",
    "- It also means that the mode solver does not use subpixel-smoothening, even if this is specified in the simulation. On the other hand, when the modes are stored in a `ModeSolverMonitor` during a simulation run, the subpixel averaging is applied. Therefore, the latter results may not perfectly match those from a local run, and are more accurate.\n",
    "- Symmetries are applied if they are defined in the simulation and the mode plane center sits on the simulation center.\n",
    "- In cases when the number of modes/frequency points and/or the dimensions of mode solver plane are large and tracking of modes is not important then it might be beneficial to turn off the default mode sorting for increased computational efficiency."
   ]
  },
  {
   "cell_type": "code",
   "execution_count": null,
   "id": "260f0abe-16c2-420f-b23a-4ce77d00ee23",
   "metadata": {},
   "outputs": [],
   "source": []
  }
 ],
 "metadata": {
  "kernelspec": {
   "display_name": "Python 3 (ipykernel)",
   "language": "python",
   "name": "python3"
  },
  "language_info": {
   "codemirror_mode": {
    "name": "ipython",
    "version": 3
   },
   "file_extension": ".py",
   "mimetype": "text/x-python",
   "name": "python",
   "nbconvert_exporter": "python",
   "pygments_lexer": "ipython3",
   "version": "3.9.16"
  },
  "widgets": {
   "application/vnd.jupyter.widget-state+json": {
    "state": {
     "030ddd12f100410a9541fa0735e7c376": {
      "model_module": "@jupyter-widgets/base",
      "model_module_version": "1.2.0",
      "model_name": "LayoutModel",
      "state": {
       "_model_module": "@jupyter-widgets/base",
       "_model_module_version": "1.2.0",
       "_model_name": "LayoutModel",
       "_view_count": null,
       "_view_module": "@jupyter-widgets/base",
       "_view_module_version": "1.2.0",
       "_view_name": "LayoutView",
       "align_content": null,
       "align_items": null,
       "align_self": null,
       "border": null,
       "bottom": null,
       "display": null,
       "flex": null,
       "flex_flow": null,
       "grid_area": null,
       "grid_auto_columns": null,
       "grid_auto_flow": null,
       "grid_auto_rows": null,
       "grid_column": null,
       "grid_gap": null,
       "grid_row": null,
       "grid_template_areas": null,
       "grid_template_columns": null,
       "grid_template_rows": null,
       "height": null,
       "justify_content": null,
       "justify_items": null,
       "left": null,
       "margin": null,
       "max_height": null,
       "max_width": null,
       "min_height": null,
       "min_width": null,
       "object_fit": null,
       "object_position": null,
       "order": null,
       "overflow": null,
       "overflow_x": null,
       "overflow_y": null,
       "padding": null,
       "right": null,
       "top": null,
       "visibility": null,
       "width": null
      }
     },
     "1ba472d0661843b3ad848d97631d51f5": {
      "model_module": "@jupyter-widgets/output",
      "model_module_version": "1.0.0",
      "model_name": "OutputModel",
      "state": {
       "_dom_classes": [],
       "_model_module": "@jupyter-widgets/output",
       "_model_module_version": "1.0.0",
       "_model_name": "OutputModel",
       "_view_count": null,
       "_view_module": "@jupyter-widgets/output",
       "_view_module_version": "1.0.0",
       "_view_name": "OutputView",
       "layout": "IPY_MODEL_4131e866acea44cb8ef8462daf7539c2",
       "msg_id": "",
       "outputs": [
        {
         "data": {
          "text/html": "<pre style=\"white-space:pre;overflow-x:auto;line-height:normal;font-family:Menlo,'DejaVu Sans Mono',consolas,'Courier New',monospace\"><span style=\"color: #008000; text-decoration-color: #008000\">🏃 </span> <span style=\"color: #008000; text-decoration-color: #008000; font-weight: bold\">Starting 'mode_simulation'...</span>\n</pre>\n",
          "text/plain": "\u001b[32m🏃 \u001b[0m \u001b[1;32mStarting 'mode_simulation'...\u001b[0m\n"
         },
         "metadata": {},
         "output_type": "display_data"
        }
       ]
      }
     },
     "1bdef49e90964fcba79d9e8ece369799": {
      "model_module": "@jupyter-widgets/output",
      "model_module_version": "1.0.0",
      "model_name": "OutputModel",
      "state": {
       "_dom_classes": [],
       "_model_module": "@jupyter-widgets/output",
       "_model_module_version": "1.0.0",
       "_model_name": "OutputModel",
       "_view_count": null,
       "_view_module": "@jupyter-widgets/output",
       "_view_module_version": "1.0.0",
       "_view_name": "OutputView",
       "layout": "IPY_MODEL_030ddd12f100410a9541fa0735e7c376",
       "msg_id": "",
       "outputs": [
        {
         "data": {
          "text/html": "<pre style=\"white-space:pre;overflow-x:auto;line-height:normal;font-family:Menlo,'DejaVu Sans Mono',consolas,'Courier New',monospace\"><span style=\"color: #800000; text-decoration-color: #800000; font-weight: bold\">↑</span> <span style=\"color: #000080; text-decoration-color: #000080; font-weight: bold\">simulation.json</span> <span style=\"color: #729c1f; text-decoration-color: #729c1f\">━━━━━━━━━━━━━━━━━━━━━━━━━━━━━━━━━━━━━━━━</span> <span style=\"color: #800080; text-decoration-color: #800080\">100.0%</span> • <span style=\"color: #008000; text-decoration-color: #008000\">9.0/9.0 kB</span> • <span style=\"color: #800000; text-decoration-color: #800000\">?</span> • <span style=\"color: #008080; text-decoration-color: #008080\">0:00:00</span>\n</pre>\n",
          "text/plain": "\u001b[1;31m↑\u001b[0m \u001b[1;34msimulation.json\u001b[0m \u001b[38;2;114;156;31m━━━━━━━━━━━━━━━━━━━━━━━━━━━━━━━━━━━━━━━━\u001b[0m \u001b[35m100.0%\u001b[0m • \u001b[32m9.0/9.0 kB\u001b[0m • \u001b[31m?\u001b[0m • \u001b[36m0:00:00\u001b[0m\n"
         },
         "metadata": {},
         "output_type": "display_data"
        }
       ]
      }
     },
     "33520ffbce0f46169d90518b74c0466c": {
      "model_module": "@jupyter-widgets/base",
      "model_module_version": "1.2.0",
      "model_name": "LayoutModel",
      "state": {
       "_model_module": "@jupyter-widgets/base",
       "_model_module_version": "1.2.0",
       "_model_name": "LayoutModel",
       "_view_count": null,
       "_view_module": "@jupyter-widgets/base",
       "_view_module_version": "1.2.0",
       "_view_name": "LayoutView",
       "align_content": null,
       "align_items": null,
       "align_self": null,
       "border": null,
       "bottom": null,
       "display": null,
       "flex": null,
       "flex_flow": null,
       "grid_area": null,
       "grid_auto_columns": null,
       "grid_auto_flow": null,
       "grid_auto_rows": null,
       "grid_column": null,
       "grid_gap": null,
       "grid_row": null,
       "grid_template_areas": null,
       "grid_template_columns": null,
       "grid_template_rows": null,
       "height": null,
       "justify_content": null,
       "justify_items": null,
       "left": null,
       "margin": null,
       "max_height": null,
       "max_width": null,
       "min_height": null,
       "min_width": null,
       "object_fit": null,
       "object_position": null,
       "order": null,
       "overflow": null,
       "overflow_x": null,
       "overflow_y": null,
       "padding": null,
       "right": null,
       "top": null,
       "visibility": null,
       "width": null
      }
     },
     "4131e866acea44cb8ef8462daf7539c2": {
      "model_module": "@jupyter-widgets/base",
      "model_module_version": "1.2.0",
      "model_name": "LayoutModel",
      "state": {
       "_model_module": "@jupyter-widgets/base",
       "_model_module_version": "1.2.0",
       "_model_name": "LayoutModel",
       "_view_count": null,
       "_view_module": "@jupyter-widgets/base",
       "_view_module_version": "1.2.0",
       "_view_name": "LayoutView",
       "align_content": null,
       "align_items": null,
       "align_self": null,
       "border": null,
       "bottom": null,
       "display": null,
       "flex": null,
       "flex_flow": null,
       "grid_area": null,
       "grid_auto_columns": null,
       "grid_auto_flow": null,
       "grid_auto_rows": null,
       "grid_column": null,
       "grid_gap": null,
       "grid_row": null,
       "grid_template_areas": null,
       "grid_template_columns": null,
       "grid_template_rows": null,
       "height": null,
       "justify_content": null,
       "justify_items": null,
       "left": null,
       "margin": null,
       "max_height": null,
       "max_width": null,
       "min_height": null,
       "min_width": null,
       "object_fit": null,
       "object_position": null,
       "order": null,
       "overflow": null,
       "overflow_x": null,
       "overflow_y": null,
       "padding": null,
       "right": null,
       "top": null,
       "visibility": null,
       "width": null
      }
     },
     "4342dc847b8c4d32af25c298dd395d74": {
      "model_module": "@jupyter-widgets/output",
      "model_module_version": "1.0.0",
      "model_name": "OutputModel",
      "state": {
       "_dom_classes": [],
       "_model_module": "@jupyter-widgets/output",
       "_model_module_version": "1.0.0",
       "_model_name": "OutputModel",
       "_view_count": null,
       "_view_module": "@jupyter-widgets/output",
       "_view_module_version": "1.0.0",
       "_view_name": "OutputView",
       "layout": "IPY_MODEL_d65bcfc578b3481b9e77cafece7dbba8",
       "msg_id": "",
       "outputs": [
        {
         "data": {
          "text/html": "<pre style=\"white-space:pre;overflow-x:auto;line-height:normal;font-family:Menlo,'DejaVu Sans Mono',consolas,'Courier New',monospace\"><span style=\"color: #008000; text-decoration-color: #008000; font-weight: bold\">↓</span> <span style=\"color: #000080; text-decoration-color: #000080; font-weight: bold\">monitor_data.hdf5</span> <span style=\"color: #729c1f; text-decoration-color: #729c1f\">━━━━━━━━━━━━━━━━━━━━━━━━━━━━━</span> <span style=\"color: #800080; text-decoration-color: #800080\">100.0%</span> • <span style=\"color: #008000; text-decoration-color: #008000\">10.2/10.2 MB</span> • <span style=\"color: #800000; text-decoration-color: #800000\">17.2 MB/s</span> • <span style=\"color: #008080; text-decoration-color: #008080\">0:00:00</span>\n</pre>\n",
          "text/plain": "\u001b[1;32m↓\u001b[0m \u001b[1;34mmonitor_data.hdf5\u001b[0m \u001b[38;2;114;156;31m━━━━━━━━━━━━━━━━━━━━━━━━━━━━━\u001b[0m \u001b[35m100.0%\u001b[0m • \u001b[32m10.2/10.2 MB\u001b[0m • \u001b[31m17.2 MB/s\u001b[0m • \u001b[36m0:00:00\u001b[0m\n"
         },
         "metadata": {},
         "output_type": "display_data"
        }
       ]
      }
     },
     "512dd842ebce4b9c887a1ad97a957673": {
      "model_module": "@jupyter-widgets/base",
      "model_module_version": "1.2.0",
      "model_name": "LayoutModel",
      "state": {
       "_model_module": "@jupyter-widgets/base",
       "_model_module_version": "1.2.0",
       "_model_name": "LayoutModel",
       "_view_count": null,
       "_view_module": "@jupyter-widgets/base",
       "_view_module_version": "1.2.0",
       "_view_name": "LayoutView",
       "align_content": null,
       "align_items": null,
       "align_self": null,
       "border": null,
       "bottom": null,
       "display": null,
       "flex": null,
       "flex_flow": null,
       "grid_area": null,
       "grid_auto_columns": null,
       "grid_auto_flow": null,
       "grid_auto_rows": null,
       "grid_column": null,
       "grid_gap": null,
       "grid_row": null,
       "grid_template_areas": null,
       "grid_template_columns": null,
       "grid_template_rows": null,
       "height": null,
       "justify_content": null,
       "justify_items": null,
       "left": null,
       "margin": null,
       "max_height": null,
       "max_width": null,
       "min_height": null,
       "min_width": null,
       "object_fit": null,
       "object_position": null,
       "order": null,
       "overflow": null,
       "overflow_x": null,
       "overflow_y": null,
       "padding": null,
       "right": null,
       "top": null,
       "visibility": null,
       "width": null
      }
     },
     "62323860ec4c4d9b853a4c1db88e3e9c": {
      "model_module": "@jupyter-widgets/output",
      "model_module_version": "1.0.0",
      "model_name": "OutputModel",
      "state": {
       "_dom_classes": [],
       "_model_module": "@jupyter-widgets/output",
       "_model_module_version": "1.0.0",
       "_model_name": "OutputModel",
       "_view_count": null,
       "_view_module": "@jupyter-widgets/output",
       "_view_module_version": "1.0.0",
       "_view_name": "OutputView",
       "layout": "IPY_MODEL_512dd842ebce4b9c887a1ad97a957673",
       "msg_id": "",
       "outputs": [
        {
         "data": {
          "text/html": "<pre style=\"white-space:pre;overflow-x:auto;line-height:normal;font-family:Menlo,'DejaVu Sans Mono',consolas,'Courier New',monospace\"><span style=\"color: #008000; text-decoration-color: #008000\">🚶 </span> <span style=\"color: #008000; text-decoration-color: #008000; font-weight: bold\">Starting 'mode_simulation'...</span>\n</pre>\n",
          "text/plain": "\u001b[32m🚶 \u001b[0m \u001b[1;32mStarting 'mode_simulation'...\u001b[0m\n"
         },
         "metadata": {},
         "output_type": "display_data"
        }
       ]
      }
     },
     "68d41729e198422badee67dffe7ab50f": {
      "model_module": "@jupyter-widgets/base",
      "model_module_version": "1.2.0",
      "model_name": "LayoutModel",
      "state": {
       "_model_module": "@jupyter-widgets/base",
       "_model_module_version": "1.2.0",
       "_model_name": "LayoutModel",
       "_view_count": null,
       "_view_module": "@jupyter-widgets/base",
       "_view_module_version": "1.2.0",
       "_view_name": "LayoutView",
       "align_content": null,
       "align_items": null,
       "align_self": null,
       "border": null,
       "bottom": null,
       "display": null,
       "flex": null,
       "flex_flow": null,
       "grid_area": null,
       "grid_auto_columns": null,
       "grid_auto_flow": null,
       "grid_auto_rows": null,
       "grid_column": null,
       "grid_gap": null,
       "grid_row": null,
       "grid_template_areas": null,
       "grid_template_columns": null,
       "grid_template_rows": null,
       "height": null,
       "justify_content": null,
       "justify_items": null,
       "left": null,
       "margin": null,
       "max_height": null,
       "max_width": null,
       "min_height": null,
       "min_width": null,
       "object_fit": null,
       "object_position": null,
       "order": null,
       "overflow": null,
       "overflow_x": null,
       "overflow_y": null,
       "padding": null,
       "right": null,
       "top": null,
       "visibility": null,
       "width": null
      }
     },
     "72b572aad9e8452b8d4cf117a498561a": {
      "model_module": "@jupyter-widgets/output",
      "model_module_version": "1.0.0",
      "model_name": "OutputModel",
      "state": {
       "_dom_classes": [],
       "_model_module": "@jupyter-widgets/output",
       "_model_module_version": "1.0.0",
       "_model_name": "OutputModel",
       "_view_count": null,
       "_view_module": "@jupyter-widgets/output",
       "_view_module_version": "1.0.0",
       "_view_name": "OutputView",
       "layout": "IPY_MODEL_33520ffbce0f46169d90518b74c0466c",
       "msg_id": "",
       "outputs": [
        {
         "data": {
          "text/html": "<pre style=\"white-space:pre;overflow-x:auto;line-height:normal;font-family:Menlo,'DejaVu Sans Mono',consolas,'Courier New',monospace\"><span style=\"color: #800000; text-decoration-color: #800000; font-weight: bold\">↑</span> <span style=\"color: #000080; text-decoration-color: #000080; font-weight: bold\">simulation.json</span> <span style=\"color: #729c1f; text-decoration-color: #729c1f\">━━━━━━━━━━━━━━━━━━━━━━━━━━━━━━━━━━━━━━━</span> <span style=\"color: #800080; text-decoration-color: #800080\">100.0%</span> • <span style=\"color: #008000; text-decoration-color: #008000\">10.4/10.4 kB</span> • <span style=\"color: #800000; text-decoration-color: #800000\">?</span> • <span style=\"color: #008080; text-decoration-color: #008080\">0:00:00</span>\n</pre>\n",
          "text/plain": "\u001b[1;31m↑\u001b[0m \u001b[1;34msimulation.json\u001b[0m \u001b[38;2;114;156;31m━━━━━━━━━━━━━━━━━━━━━━━━━━━━━━━━━━━━━━━\u001b[0m \u001b[35m100.0%\u001b[0m • \u001b[32m10.4/10.4 kB\u001b[0m • \u001b[31m?\u001b[0m • \u001b[36m0:00:00\u001b[0m\n"
         },
         "metadata": {},
         "output_type": "display_data"
        }
       ]
      }
     },
     "80e3ed580c674664bf67e685257121c1": {
      "model_module": "@jupyter-widgets/base",
      "model_module_version": "1.2.0",
      "model_name": "LayoutModel",
      "state": {
       "_model_module": "@jupyter-widgets/base",
       "_model_module_version": "1.2.0",
       "_model_name": "LayoutModel",
       "_view_count": null,
       "_view_module": "@jupyter-widgets/base",
       "_view_module_version": "1.2.0",
       "_view_name": "LayoutView",
       "align_content": null,
       "align_items": null,
       "align_self": null,
       "border": null,
       "bottom": null,
       "display": null,
       "flex": null,
       "flex_flow": null,
       "grid_area": null,
       "grid_auto_columns": null,
       "grid_auto_flow": null,
       "grid_auto_rows": null,
       "grid_column": null,
       "grid_gap": null,
       "grid_row": null,
       "grid_template_areas": null,
       "grid_template_columns": null,
       "grid_template_rows": null,
       "height": null,
       "justify_content": null,
       "justify_items": null,
       "left": null,
       "margin": null,
       "max_height": null,
       "max_width": null,
       "min_height": null,
       "min_width": null,
       "object_fit": null,
       "object_position": null,
       "order": null,
       "overflow": null,
       "overflow_x": null,
       "overflow_y": null,
       "padding": null,
       "right": null,
       "top": null,
       "visibility": null,
       "width": null
      }
     },
     "85e98f60e75947f9b4e3500ac88f8953": {
      "model_module": "@jupyter-widgets/output",
      "model_module_version": "1.0.0",
      "model_name": "OutputModel",
      "state": {
       "_dom_classes": [],
       "_model_module": "@jupyter-widgets/output",
       "_model_module_version": "1.0.0",
       "_model_name": "OutputModel",
       "_view_count": null,
       "_view_module": "@jupyter-widgets/output",
       "_view_module_version": "1.0.0",
       "_view_name": "OutputView",
       "layout": "IPY_MODEL_e29f9db48cef4732b4d3a426e281f27d",
       "msg_id": "",
       "outputs": [
        {
         "data": {
          "text/html": "<pre style=\"white-space:pre;overflow-x:auto;line-height:normal;font-family:Menlo,'DejaVu Sans Mono',consolas,'Courier New',monospace\"><span style=\"color: #008000; text-decoration-color: #008000\">🚶 </span> <span style=\"color: #008000; text-decoration-color: #008000; font-weight: bold\">Finishing 'mode_simulation'...</span>\n</pre>\n",
          "text/plain": "\u001b[32m🚶 \u001b[0m \u001b[1;32mFinishing 'mode_simulation'...\u001b[0m\n"
         },
         "metadata": {},
         "output_type": "display_data"
        }
       ]
      }
     },
     "894033bc6bcb4d9f8278cbe3d10920ca": {
      "model_module": "@jupyter-widgets/output",
      "model_module_version": "1.0.0",
      "model_name": "OutputModel",
      "state": {
       "_dom_classes": [],
       "_model_module": "@jupyter-widgets/output",
       "_model_module_version": "1.0.0",
       "_model_name": "OutputModel",
       "_view_count": null,
       "_view_module": "@jupyter-widgets/output",
       "_view_module_version": "1.0.0",
       "_view_name": "OutputView",
       "layout": "IPY_MODEL_c1885de5264f429f915d436367e22a8f",
       "msg_id": "",
       "outputs": [
        {
         "data": {
          "text/html": "<pre style=\"white-space:pre;overflow-x:auto;line-height:normal;font-family:Menlo,'DejaVu Sans Mono',consolas,'Courier New',monospace\">% done <span style=\"color: #729c1f; text-decoration-color: #729c1f\">━━━━━━━━━━━━━━━━━━━━━━━━━━━━━━━━━━━━━━━━</span> <span style=\"color: #800080; text-decoration-color: #800080\">100%</span> <span style=\"color: #008080; text-decoration-color: #008080\">0:00:00</span>\n</pre>\n",
          "text/plain": "% done \u001b[38;2;114;156;31m━━━━━━━━━━━━━━━━━━━━━━━━━━━━━━━━━━━━━━━━\u001b[0m \u001b[35m100%\u001b[0m \u001b[36m0:00:00\u001b[0m\n"
         },
         "metadata": {},
         "output_type": "display_data"
        }
       ]
      }
     },
     "98f5bb2759074ab0827a7c1c0cdbf422": {
      "model_module": "@jupyter-widgets/output",
      "model_module_version": "1.0.0",
      "model_name": "OutputModel",
      "state": {
       "_dom_classes": [],
       "_model_module": "@jupyter-widgets/output",
       "_model_module_version": "1.0.0",
       "_model_name": "OutputModel",
       "_view_count": null,
       "_view_module": "@jupyter-widgets/output",
       "_view_module_version": "1.0.0",
       "_view_name": "OutputView",
       "layout": "IPY_MODEL_80e3ed580c674664bf67e685257121c1",
       "msg_id": "",
       "outputs": [
        {
         "data": {
          "text/html": "<pre style=\"white-space:pre;overflow-x:auto;line-height:normal;font-family:Menlo,'DejaVu Sans Mono',consolas,'Courier New',monospace\">% done <span style=\"color: #729c1f; text-decoration-color: #729c1f\">━━━━━━━━━━━━━━━━━━━━━━━━━━━━━━━━━━━━━━━━</span> <span style=\"color: #800080; text-decoration-color: #800080\">100%</span> <span style=\"color: #008080; text-decoration-color: #008080\">0:00:00</span>\n</pre>\n",
          "text/plain": "% done \u001b[38;2;114;156;31m━━━━━━━━━━━━━━━━━━━━━━━━━━━━━━━━━━━━━━━━\u001b[0m \u001b[35m100%\u001b[0m \u001b[36m0:00:00\u001b[0m\n"
         },
         "metadata": {},
         "output_type": "display_data"
        }
       ]
      }
     },
     "c1885de5264f429f915d436367e22a8f": {
      "model_module": "@jupyter-widgets/base",
      "model_module_version": "1.2.0",
      "model_name": "LayoutModel",
      "state": {
       "_model_module": "@jupyter-widgets/base",
       "_model_module_version": "1.2.0",
       "_model_name": "LayoutModel",
       "_view_count": null,
       "_view_module": "@jupyter-widgets/base",
       "_view_module_version": "1.2.0",
       "_view_name": "LayoutView",
       "align_content": null,
       "align_items": null,
       "align_self": null,
       "border": null,
       "bottom": null,
       "display": null,
       "flex": null,
       "flex_flow": null,
       "grid_area": null,
       "grid_auto_columns": null,
       "grid_auto_flow": null,
       "grid_auto_rows": null,
       "grid_column": null,
       "grid_gap": null,
       "grid_row": null,
       "grid_template_areas": null,
       "grid_template_columns": null,
       "grid_template_rows": null,
       "height": null,
       "justify_content": null,
       "justify_items": null,
       "left": null,
       "margin": null,
       "max_height": null,
       "max_width": null,
       "min_height": null,
       "min_width": null,
       "object_fit": null,
       "object_position": null,
       "order": null,
       "overflow": null,
       "overflow_x": null,
       "overflow_y": null,
       "padding": null,
       "right": null,
       "top": null,
       "visibility": null,
       "width": null
      }
     },
     "d65bcfc578b3481b9e77cafece7dbba8": {
      "model_module": "@jupyter-widgets/base",
      "model_module_version": "1.2.0",
      "model_name": "LayoutModel",
      "state": {
       "_model_module": "@jupyter-widgets/base",
       "_model_module_version": "1.2.0",
       "_model_name": "LayoutModel",
       "_view_count": null,
       "_view_module": "@jupyter-widgets/base",
       "_view_module_version": "1.2.0",
       "_view_name": "LayoutView",
       "align_content": null,
       "align_items": null,
       "align_self": null,
       "border": null,
       "bottom": null,
       "display": null,
       "flex": null,
       "flex_flow": null,
       "grid_area": null,
       "grid_auto_columns": null,
       "grid_auto_flow": null,
       "grid_auto_rows": null,
       "grid_column": null,
       "grid_gap": null,
       "grid_row": null,
       "grid_template_areas": null,
       "grid_template_columns": null,
       "grid_template_rows": null,
       "height": null,
       "justify_content": null,
       "justify_items": null,
       "left": null,
       "margin": null,
       "max_height": null,
       "max_width": null,
       "min_height": null,
       "min_width": null,
       "object_fit": null,
       "object_position": null,
       "order": null,
       "overflow": null,
       "overflow_x": null,
       "overflow_y": null,
       "padding": null,
       "right": null,
       "top": null,
       "visibility": null,
       "width": null
      }
     },
     "dca9acf7f51e43b49c45ff0372bc9bcd": {
      "model_module": "@jupyter-widgets/base",
      "model_module_version": "1.2.0",
      "model_name": "LayoutModel",
      "state": {
       "_model_module": "@jupyter-widgets/base",
       "_model_module_version": "1.2.0",
       "_model_name": "LayoutModel",
       "_view_count": null,
       "_view_module": "@jupyter-widgets/base",
       "_view_module_version": "1.2.0",
       "_view_name": "LayoutView",
       "align_content": null,
       "align_items": null,
       "align_self": null,
       "border": null,
       "bottom": null,
       "display": null,
       "flex": null,
       "flex_flow": null,
       "grid_area": null,
       "grid_auto_columns": null,
       "grid_auto_flow": null,
       "grid_auto_rows": null,
       "grid_column": null,
       "grid_gap": null,
       "grid_row": null,
       "grid_template_areas": null,
       "grid_template_columns": null,
       "grid_template_rows": null,
       "height": null,
       "justify_content": null,
       "justify_items": null,
       "left": null,
       "margin": null,
       "max_height": null,
       "max_width": null,
       "min_height": null,
       "min_width": null,
       "object_fit": null,
       "object_position": null,
       "order": null,
       "overflow": null,
       "overflow_x": null,
       "overflow_y": null,
       "padding": null,
       "right": null,
       "top": null,
       "visibility": null,
       "width": null
      }
     },
     "e29f9db48cef4732b4d3a426e281f27d": {
      "model_module": "@jupyter-widgets/base",
      "model_module_version": "1.2.0",
      "model_name": "LayoutModel",
      "state": {
       "_model_module": "@jupyter-widgets/base",
       "_model_module_version": "1.2.0",
       "_model_name": "LayoutModel",
       "_view_count": null,
       "_view_module": "@jupyter-widgets/base",
       "_view_module_version": "1.2.0",
       "_view_name": "LayoutView",
       "align_content": null,
       "align_items": null,
       "align_self": null,
       "border": null,
       "bottom": null,
       "display": null,
       "flex": null,
       "flex_flow": null,
       "grid_area": null,
       "grid_auto_columns": null,
       "grid_auto_flow": null,
       "grid_auto_rows": null,
       "grid_column": null,
       "grid_gap": null,
       "grid_row": null,
       "grid_template_areas": null,
       "grid_template_columns": null,
       "grid_template_rows": null,
       "height": null,
       "justify_content": null,
       "justify_items": null,
       "left": null,
       "margin": null,
       "max_height": null,
       "max_width": null,
       "min_height": null,
       "min_width": null,
       "object_fit": null,
       "object_position": null,
       "order": null,
       "overflow": null,
       "overflow_x": null,
       "overflow_y": null,
       "padding": null,
       "right": null,
       "top": null,
       "visibility": null,
       "width": null
      }
     },
     "e42937c2b659426c9b1a8e7f190f161c": {
      "model_module": "@jupyter-widgets/output",
      "model_module_version": "1.0.0",
      "model_name": "OutputModel",
      "state": {
       "_dom_classes": [],
       "_model_module": "@jupyter-widgets/output",
       "_model_module_version": "1.0.0",
       "_model_name": "OutputModel",
       "_view_count": null,
       "_view_module": "@jupyter-widgets/output",
       "_view_module_version": "1.0.0",
       "_view_name": "OutputView",
       "layout": "IPY_MODEL_dca9acf7f51e43b49c45ff0372bc9bcd",
       "msg_id": "",
       "outputs": [
        {
         "data": {
          "text/html": "<pre style=\"white-space:pre;overflow-x:auto;line-height:normal;font-family:Menlo,'DejaVu Sans Mono',consolas,'Courier New',monospace\"><span style=\"color: #008000; text-decoration-color: #008000; font-weight: bold\">↓</span> <span style=\"color: #000080; text-decoration-color: #000080; font-weight: bold\">monitor_data.hdf5</span> <span style=\"color: #729c1f; text-decoration-color: #729c1f\">━━━━━━━━━━━━━━━━━━━━━━━━━━━━</span> <span style=\"color: #800080; text-decoration-color: #800080\">100.0%</span> • <span style=\"color: #008000; text-decoration-color: #008000\">796.4/796.4 kB</span> • <span style=\"color: #800000; text-decoration-color: #800000\">9.9 MB/s</span> • <span style=\"color: #008080; text-decoration-color: #008080\">0:00:00</span>\n</pre>\n",
          "text/plain": "\u001b[1;32m↓\u001b[0m \u001b[1;34mmonitor_data.hdf5\u001b[0m \u001b[38;2;114;156;31m━━━━━━━━━━━━━━━━━━━━━━━━━━━━\u001b[0m \u001b[35m100.0%\u001b[0m • \u001b[32m796.4/796.4 kB\u001b[0m • \u001b[31m9.9 MB/s\u001b[0m • \u001b[36m0:00:00\u001b[0m\n"
         },
         "metadata": {},
         "output_type": "display_data"
        }
       ]
      }
     },
     "ffd62689b90948be99051744d6a6c2e3": {
      "model_module": "@jupyter-widgets/output",
      "model_module_version": "1.0.0",
      "model_name": "OutputModel",
      "state": {
       "_dom_classes": [],
       "_model_module": "@jupyter-widgets/output",
       "_model_module_version": "1.0.0",
       "_model_name": "OutputModel",
       "_view_count": null,
       "_view_module": "@jupyter-widgets/output",
       "_view_module_version": "1.0.0",
       "_view_name": "OutputView",
       "layout": "IPY_MODEL_68d41729e198422badee67dffe7ab50f",
       "msg_id": "",
       "outputs": [
        {
         "data": {
          "text/html": "<pre style=\"white-space:pre;overflow-x:auto;line-height:normal;font-family:Menlo,'DejaVu Sans Mono',consolas,'Courier New',monospace\"><span style=\"color: #008000; text-decoration-color: #008000\">🏃 </span> <span style=\"color: #008000; text-decoration-color: #008000; font-weight: bold\">Finishing 'mode_simulation'...</span>\n</pre>\n",
          "text/plain": "\u001b[32m🏃 \u001b[0m \u001b[1;32mFinishing 'mode_simulation'...\u001b[0m\n"
         },
         "metadata": {},
         "output_type": "display_data"
        }
       ]
      }
     }
    },
    "version_major": 2,
    "version_minor": 0
   }
  }
 },
 "nbformat": 4,
 "nbformat_minor": 5
}
