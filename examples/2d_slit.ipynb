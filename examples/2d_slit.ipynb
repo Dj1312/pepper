{
 "cells": [
  {
   "cell_type": "code",
   "execution_count": 1,
   "metadata": {},
   "outputs": [
    {
     "data": {
      "text/html": [
       "<pre style=\"white-space:pre;overflow-x:auto;line-height:normal;font-family:Menlo,'DejaVu Sans Mono',consolas,'Courier New',monospace\"><span style=\"color: #7fbfbf; text-decoration-color: #7fbfbf\">[11:02:44] </span><span style=\"color: #000080; text-decoration-color: #000080\">INFO    </span> Using client version: <span style=\"color: #008080; text-decoration-color: #008080; font-weight: bold\">1.9</span>.<span style=\"color: #008080; text-decoration-color: #008080; font-weight: bold\">1</span>                                                     <a href=\"file:///Users/lucasgrosjean/.pyenv/versions/3.11.2/envs/pepper/lib/python3.11/site-packages/tidy3d/__init__.py\" target=\"_blank\"><span style=\"color: #7f7f7f; text-decoration-color: #7f7f7f\">__init__.py</span></a><span style=\"color: #7f7f7f; text-decoration-color: #7f7f7f\">:</span><a href=\"file:///Users/lucasgrosjean/.pyenv/versions/3.11.2/envs/pepper/lib/python3.11/site-packages/tidy3d/__init__.py#115\" target=\"_blank\"><span style=\"color: #7f7f7f; text-decoration-color: #7f7f7f\">115</span></a>\n",
       "</pre>\n"
      ],
      "text/plain": [
       "\u001b[2;36m[11:02:44]\u001b[0m\u001b[2;36m \u001b[0m\u001b[34mINFO    \u001b[0m Using client version: \u001b[1;36m1.9\u001b[0m.\u001b[1;36m1\u001b[0m                                                     \u001b]8;id=675236;file:///Users/lucasgrosjean/.pyenv/versions/3.11.2/envs/pepper/lib/python3.11/site-packages/tidy3d/__init__.py\u001b\\\u001b[2m__init__.py\u001b[0m\u001b]8;;\u001b\\\u001b[2m:\u001b[0m\u001b]8;id=97692;file:///Users/lucasgrosjean/.pyenv/versions/3.11.2/envs/pepper/lib/python3.11/site-packages/tidy3d/__init__.py#115\u001b\\\u001b[2m115\u001b[0m\u001b]8;;\u001b\\\n"
      ]
     },
     "metadata": {},
     "output_type": "display_data"
    }
   ],
   "source": [
    "import sys\n",
    "sys.path.append('..')\n",
    "\n",
    "# standard python imports\n",
    "import numpy as np\n",
    "import matplotlib.pyplot as plt\n",
    "\n",
    "# tidy3D import\n",
    "import tidy3d as td\n",
    "from pepper import TidySimulationFdfd, SimulationFdfd, PlaneWaveFdfd"
   ]
  },
  {
   "cell_type": "code",
   "execution_count": 2,
   "metadata": {},
   "outputs": [],
   "source": [
    "# define geometry\n",
    "wg_width = 0.25\n",
    "couple_width = 0.05\n",
    "ring_radius = 3.5\n",
    "ring_wg_width = 0.25\n",
    "wg_spacing = 2.0\n",
    "buffer = 2.0\n",
    "\n",
    "# # compute quantities based on geometry parameters\n",
    "# x_span = 2*wg_spacing + 2*ring_radius + 2*buffer\n",
    "# y_span = 2*ring_radius + 2*ring_wg_width + wg_width + couple_width + 2*buffer\n",
    "# wg_insert_x = ring_radius + wg_spacing\n",
    "# wg_center_y = ring_radius + ring_wg_width/2. + couple_width + wg_width/2.\n",
    "# compute quantities based on geometry parameters\n",
    "x_span = 2*wg_spacing + buffer\n",
    "y_span = ring_radius + buffer\n",
    "wg_insert_x = wg_spacing\n",
    "wg_center_y = 0#ring_radius + couple_width + wg_width/2."
   ]
  },
  {
   "cell_type": "code",
   "execution_count": 3,
   "metadata": {},
   "outputs": [],
   "source": [
    "# wavelength range of interest\n",
    "lambda_beg = 0.4\n",
    "lambda_end = 0.6\n",
    "\n",
    "# define pulse parameters\n",
    "freq_beg = td.C_0 / lambda_end\n",
    "freq_end = td.C_0 / lambda_beg\n",
    "freq0 = (freq_beg + freq_end) / 2\n",
    "fwidth = (freq_end - freq0) / 1.5\n",
    "\n",
    "min_steps_per_wvl = 30\n",
    "run_time = 1e-11"
   ]
  },
  {
   "cell_type": "code",
   "execution_count": 4,
   "metadata": {},
   "outputs": [],
   "source": [
    "n_bg = 1.0\n",
    "n_solid = 1.5\n",
    "background = td.Medium(permittivity=n_bg**2)\n",
    "solid = td.Medium(permittivity=n_solid**2)"
   ]
  },
  {
   "cell_type": "code",
   "execution_count": 5,
   "metadata": {},
   "outputs": [],
   "source": [
    "# background of entire domain (set explicitly as a box)\n",
    "background_box = td.Structure(\n",
    "    geometry=td.Box(\n",
    "        center=[0, 0, 0],\n",
    "        size=[td.inf, td.inf, td.inf],\n",
    "    ),\n",
    "    medium=background,\n",
    "    name='background')\n",
    "\n",
    "# waveguide\n",
    "waveguide = td.Structure(\n",
    "    geometry=td.Box(\n",
    "        center=[0, wg_center_y, 0],\n",
    "        size=[td.inf, wg_width, td.inf],\n",
    "    ),\n",
    "    medium=solid,\n",
    "    name='waveguide')"
   ]
  },
  {
   "cell_type": "code",
   "execution_count": 6,
   "metadata": {},
   "outputs": [
    {
     "name": "stdout",
     "output_type": "stream",
     "text": [
      "As\n",
      "Good\n"
     ]
    }
   ],
   "source": [
    "pw_fdfd = PlaneWaveFdfd(\n",
    "    size=[td.inf,0,td.inf],\n",
    "    center=(0, -y_span/4, 0),\n",
    "    wavelength=1.55*1e-6,\n",
    "    angle_theta=0.3,\n",
    "    angle_phi=0.2,\n",
    "    direction='+',\n",
    ")\n",
    "\n",
    "bloch_x = td.Boundary.bloch_from_source(\n",
    "    pw_fdfd,\n",
    "    domain_size=x_span,\n",
    "    axis=0)\n",
    "\n",
    "sim_fdfd = SimulationFdfd(\n",
    "    size=[x_span, y_span, 0],\n",
    "    grid_spec=td.GridSpec.uniform(dl=x_span / 200),\n",
    "    structures=[background_box, waveguide],\n",
    "    sources=[pw_fdfd],\n",
    "    polarization='TE',\n",
    "    #monitors=[field_monitor, mode_monitor],\n",
    "    #run_time = 1,\n",
    "    boundary_spec=td.BoundarySpec(x=bloch_x, y=td.Boundary.pml(), z=td.Boundary.periodic()),\n",
    ")"
   ]
  },
  {
   "cell_type": "code",
   "execution_count": 7,
   "metadata": {},
   "outputs": [
    {
     "data": {
      "image/png": "[encoded data removed]",
      "text/plain": [
       "<Figure size 640x480 with 1 Axes>"
      ]
     },
     "metadata": {},
     "output_type": "display_data"
    }
   ],
   "source": [
    "sim_fdfd.plot(z=0);"
   ]
  },
  {
   "cell_type": "code",
   "execution_count": null,
   "metadata": {},
   "outputs": [],
   "source": []
  }
 ],
 "metadata": {
  "kernelspec": {
   "display_name": "pepper",
   "language": "python",
   "name": "python3"
  },
  "language_info": {
   "codemirror_mode": {
    "name": "ipython",
    "version": 3
   },
   "file_extension": ".py",
   "mimetype": "text/x-python",
   "name": "python",
   "nbconvert_exporter": "python",
   "pygments_lexer": "ipython3",
   "version": "3.11.2"
  },
  "orig_nbformat": 4,
  "vscode": {
   "interpreter": {
    "hash": "23dd61605ba7b41ce635bbff4ce65a64dcfc31dcf881515dbef871e0d95fc490"
   }
  }
 },
 "nbformat": 4,
 "nbformat_minor": 2
}
