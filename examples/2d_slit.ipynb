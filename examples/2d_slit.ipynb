{
 "cells": [
  {
   "cell_type": "code",
   "execution_count": 1,
   "metadata": {},
   "outputs": [
    {
     "data": {
      "text/html": [
       "<pre style=\"white-space:pre;overflow-x:auto;line-height:normal;font-family:Menlo,'DejaVu Sans Mono',consolas,'Courier New',monospace\"><span style=\"color: #7fbfbf; text-decoration-color: #7fbfbf\">[15:34:55] </span><span style=\"color: #000080; text-decoration-color: #000080\">INFO    </span> Using client version: <span style=\"color: #008080; text-decoration-color: #008080; font-weight: bold\">1.9</span>.<span style=\"color: #008080; text-decoration-color: #008080; font-weight: bold\">0</span>                                                     <a href=\"file:///home/lucas/micromamba/envs/mangoustan/lib/python3.9/site-packages/tidy3d/__init__.py\" target=\"_blank\"><span style=\"color: #7f7f7f; text-decoration-color: #7f7f7f\">__init__.py</span></a><span style=\"color: #7f7f7f; text-decoration-color: #7f7f7f\">:</span><a href=\"file:///home/lucas/micromamba/envs/mangoustan/lib/python3.9/site-packages/tidy3d/__init__.py#115\" target=\"_blank\"><span style=\"color: #7f7f7f; text-decoration-color: #7f7f7f\">115</span></a>\n",
       "</pre>\n"
      ],
      "text/plain": [
       "\u001b[2;36m[15:34:55]\u001b[0m\u001b[2;36m \u001b[0m\u001b[34mINFO    \u001b[0m Using client version: \u001b[1;36m1.9\u001b[0m.\u001b[1;36m0\u001b[0m                                                     \u001b]8;id=260263;file:///home/lucas/micromamba/envs/mangoustan/lib/python3.9/site-packages/tidy3d/__init__.py\u001b\\\u001b[2m__init__.py\u001b[0m\u001b]8;;\u001b\\\u001b[2m:\u001b[0m\u001b]8;id=278225;file:///home/lucas/micromamba/envs/mangoustan/lib/python3.9/site-packages/tidy3d/__init__.py#115\u001b\\\u001b[2m115\u001b[0m\u001b]8;;\u001b\\\n"
      ]
     },
     "metadata": {},
     "output_type": "display_data"
    }
   ],
   "source": [
    "import sys\n",
    "sys.path.append('..')\n",
    "\n",
    "# standard python imports\n",
    "import numpy as np\n",
    "import matplotlib.pyplot as plt\n",
    "\n",
    "# tidy3D import\n",
    "import tidy3d as td\n",
    "from pepper import SimulationFdfd, PlaneWaveFdfd"
   ]
  },
  {
   "cell_type": "code",
   "execution_count": 2,
   "metadata": {},
   "outputs": [],
   "source": [
    "# define geometry\n",
    "wg_width = 0.25\n",
    "couple_width = 0.05\n",
    "ring_radius = 3.5\n",
    "ring_wg_width = 0.25\n",
    "wg_spacing = 2.0\n",
    "buffer = 2.0\n",
    "\n",
    "# # compute quantities based on geometry parameters\n",
    "# x_span = 2*wg_spacing + 2*ring_radius + 2*buffer\n",
    "# y_span = 2*ring_radius + 2*ring_wg_width + wg_width + couple_width + 2*buffer\n",
    "# wg_insert_x = ring_radius + wg_spacing\n",
    "# wg_center_y = ring_radius + ring_wg_width/2. + couple_width + wg_width/2.\n",
    "# compute quantities based on geometry parameters\n",
    "x_span = 2*wg_spacing + buffer\n",
    "y_span = ring_radius + buffer\n",
    "wg_insert_x = wg_spacing\n",
    "wg_center_y = 0#ring_radius + couple_width + wg_width/2."
   ]
  },
  {
   "cell_type": "code",
   "execution_count": 3,
   "metadata": {},
   "outputs": [],
   "source": [
    "# wavelength range of interest\n",
    "lambda_beg = 0.4\n",
    "lambda_end = 0.6\n",
    "\n",
    "# define pulse parameters\n",
    "freq_beg = td.C_0 / lambda_end\n",
    "freq_end = td.C_0 / lambda_beg\n",
    "freq0 = (freq_beg + freq_end) / 2\n",
    "fwidth = (freq_end - freq0) / 1.5\n",
    "\n",
    "min_steps_per_wvl = 30\n",
    "run_time = 1e-11"
   ]
  },
  {
   "cell_type": "code",
   "execution_count": 4,
   "metadata": {},
   "outputs": [],
   "source": [
    "n_bg = 1.0\n",
    "n_solid = 1.5\n",
    "background = td.Medium(permittivity=n_bg**2)\n",
    "solid = td.Medium(permittivity=n_solid**2)"
   ]
  },
  {
   "cell_type": "code",
   "execution_count": 5,
   "metadata": {},
   "outputs": [],
   "source": [
    "# background of entire domain (set explicitly as a box)\n",
    "background_box = td.Structure(\n",
    "    geometry=td.Box(\n",
    "        center=[0, 0, 0],\n",
    "        size=[td.inf, td.inf, td.inf],\n",
    "    ),\n",
    "    medium=background,\n",
    "    name='background')\n",
    "\n",
    "# waveguide\n",
    "waveguide = td.Structure(\n",
    "    geometry=td.Box(\n",
    "        center=[0, wg_center_y, 0],\n",
    "        size=[td.inf, wg_width, td.inf],\n",
    "    ),\n",
    "    medium=solid,\n",
    "    name='waveguide')"
   ]
  },
  {
   "cell_type": "code",
   "execution_count": 37,
   "metadata": {},
   "outputs": [],
   "source": [
    "pw_fdfd = PlaneWaveFdfd(\n",
    "    size=[td.inf,0,td.inf],\n",
    "    center=(0, -y_span/4, 0),\n",
    "    wavelength=1.55*1e-6,\n",
    "    angle_theta=0.3,\n",
    "    angle_phi=0.2,\n",
    "    direction='+',\n",
    ")\n",
    "\n",
    "bloch_x = td.Boundary.bloch_from_source(\n",
    "    pw_fdfd,\n",
    "    domain_size=x_span,\n",
    "    axis=0)\n",
    "\n",
    "sim_fdfd = SimulationFdfd(\n",
    "    size=[x_span, y_span, 0],\n",
    "    grid_spec=td.GridSpec.uniform(dl=x_span / 200),\n",
    "    structures=[background_box, waveguide],\n",
    "    sources=[pw_fdfd],\n",
    "    polarization='TE',\n",
    "    #monitors=[field_monitor, mode_monitor],\n",
    "    #run_time = 1,\n",
    "    boundary_spec=td.BoundarySpec(x=bloch_x, y=td.Boundary.pml(), z=td.Boundary.periodic()),\n",
    ")"
   ]
  },
  {
   "cell_type": "code",
   "execution_count": 38,
   "metadata": {},
   "outputs": [
    {
     "data": {
      "image/png": "[encoded data removed]",
      "text/plain": [
       "<Figure size 640x480 with 1 Axes>"
      ]
     },
     "metadata": {},
     "output_type": "display_data"
    }
   ],
   "source": [
    "sim_fdfd.plot(z=0);"
   ]
  },
  {
   "cell_type": "code",
   "execution_count": 61,
   "metadata": {},
   "outputs": [
    {
     "data": {
      "text/plain": [
       "1.0"
      ]
     },
     "execution_count": 61,
     "metadata": {},
     "output_type": "execute_result"
    }
   ],
   "source": [
    "next(iter(sim_fdfd.intersecting_media(sim_fdfd.sources[0], sim_fdfd.structures))).permittivity"
   ]
  },
  {
   "cell_type": "code",
   "execution_count": 40,
   "metadata": {},
   "outputs": [
    {
     "ename": "TypeError",
     "evalue": "qaaq_source() missing 1 required positional argument: 'sim'",
     "output_type": "error",
     "traceback": [
      "\u001b[0;31m---------------------------------------------------------------------------\u001b[0m",
      "\u001b[0;31mTypeError\u001b[0m                                 Traceback (most recent call last)",
      "Cell \u001b[0;32mIn[40], line 1\u001b[0m\n\u001b[0;32m----> 1\u001b[0m plt\u001b[38;5;241m.\u001b[39mimshow(np\u001b[38;5;241m.\u001b[39mabs(\u001b[43msim_fdfd\u001b[49m\u001b[38;5;241;43m.\u001b[39;49m\u001b[43msource\u001b[49m)\u001b[38;5;241m.\u001b[39msqueeze()\u001b[38;5;241m.\u001b[39mT, origin\u001b[38;5;241m=\u001b[39m\u001b[38;5;124m'\u001b[39m\u001b[38;5;124mlower\u001b[39m\u001b[38;5;124m'\u001b[39m)\n",
      "File \u001b[0;32m~/pepper/pepper/cache.py:21\u001b[0m, in \u001b[0;36mcache.<locals>.cached_property_getter\u001b[0;34m(self)\u001b[0m\n\u001b[1;32m     18\u001b[0m \u001b[39mif\u001b[39;00m stored_value \u001b[39mis\u001b[39;00m \u001b[39mnot\u001b[39;00m \u001b[39mNone\u001b[39;00m:\n\u001b[1;32m     19\u001b[0m     \u001b[39mreturn\u001b[39;00m stored_value\n\u001b[0;32m---> 21\u001b[0m computed_value \u001b[39m=\u001b[39m prop(\u001b[39mself\u001b[39;49m)\n\u001b[1;32m     22\u001b[0m \u001b[39mself\u001b[39m\u001b[39m.\u001b[39m_cached_properties[prop_name] \u001b[39m=\u001b[39m computed_value  \u001b[39m# pylint:disable=protected-access\u001b[39;00m\n\u001b[1;32m     23\u001b[0m \u001b[39mreturn\u001b[39;00m computed_value\n",
      "File \u001b[0;32m~/pepper/pepper/fdfd/simulation.py:153\u001b[0m, in \u001b[0;36mSimulationFdfd.source\u001b[0;34m(self)\u001b[0m\n\u001b[1;32m    151\u001b[0m arr_source \u001b[39m=\u001b[39m []  \u001b[39m# np.zeros(self.eps[0].shape, dtype=complex)\u001b[39;00m\n\u001b[1;32m    152\u001b[0m \u001b[39mfor\u001b[39;00m src \u001b[39min\u001b[39;00m \u001b[39mself\u001b[39m\u001b[39m.\u001b[39msources:\n\u001b[0;32m--> 153\u001b[0m     src_initialized \u001b[39m=\u001b[39m src\u001b[39m.\u001b[39;49msource_initialization(\u001b[39mself\u001b[39;49m)\n\u001b[1;32m    154\u001b[0m     \u001b[39mif\u001b[39;00m src_initialized\u001b[39m.\u001b[39mndim \u001b[39m>\u001b[39m \u001b[39m2\u001b[39m \u001b[39mand\u001b[39;00m src_initialized\u001b[39m.\u001b[39mshape\u001b[39m.\u001b[39mcount(\u001b[39m1\u001b[39m) \u001b[39m!=\u001b[39m \u001b[39m1\u001b[39m:\n\u001b[1;32m    155\u001b[0m         \u001b[39mraise\u001b[39;00m \u001b[39mValueError\u001b[39;00m(\u001b[39m\"\u001b[39m\u001b[39mA source is not 2D.\u001b[39m\u001b[39m\"\u001b[39m)\n",
      "File \u001b[0;32m~/pepper/pepper/fdfd/source_init.py:18\u001b[0m, in \u001b[0;36mplanewave_init\u001b[0;34m(src, sim)\u001b[0m\n\u001b[1;32m     15\u001b[0m source_value \u001b[39m=\u001b[39m np\u001b[39m.\u001b[39mmoveaxis(source_value, source\u001b[39m=\u001b[39m\u001b[39m-\u001b[39m\u001b[39m1\u001b[39m, destination\u001b[39m=\u001b[39minj_idx)\n\u001b[1;32m     17\u001b[0m \u001b[39mif\u001b[39;00m sim\u001b[39m.\u001b[39mtfsf \u001b[39mis\u001b[39;00m \u001b[39mTrue\u001b[39;00m:\n\u001b[0;32m---> 18\u001b[0m     \u001b[39mreturn\u001b[39;00m qaaq_source(source_value, sim)\n\u001b[1;32m     19\u001b[0m \u001b[39melse\u001b[39;00m:\n\u001b[1;32m     20\u001b[0m     \u001b[39mreturn\u001b[39;00m source_value\n",
      "\u001b[0;31mTypeError\u001b[0m: qaaq_source() missing 1 required positional argument: 'sim'"
     ]
    }
   ],
   "source": [
    "plt.imshow(np.abs(sim_fdfd.source).squeeze().T, origin='lower')"
   ]
  },
  {
   "cell_type": "code",
   "execution_count": null,
   "metadata": {},
   "outputs": [
    {
     "ename": "ValueError",
     "evalue": "too many values to unpack (expected 2)",
     "output_type": "error",
     "traceback": [
      "\u001b[0;31m---------------------------------------------------------------------------\u001b[0m",
      "\u001b[0;31mValueError\u001b[0m                                Traceback (most recent call last)",
      "Cell \u001b[0;32mIn[31], line 1\u001b[0m\n\u001b[0;32m----> 1\u001b[0m x, y \u001b[38;5;241m=\u001b[39m sim_fdfd\u001b[38;5;241m.\u001b[39mgrid\u001b[38;5;241m.\u001b[39myee\u001b[38;5;241m.\u001b[39mE\u001b[38;5;241m.\u001b[39mz\n",
      "\u001b[0;31mValueError\u001b[0m: too many values to unpack (expected 2)"
     ]
    }
   ],
   "source": [
    "sim_fdfd.grid.yee.E.z"
   ]
  },
  {
   "cell_type": "code",
   "execution_count": null,
   "metadata": {},
   "outputs": [],
   "source": []
  }
 ],
 "metadata": {
  "kernelspec": {
   "display_name": "Python 3 (ipykernel)",
   "language": "python",
   "name": "python3"
  },
  "language_info": {
   "codemirror_mode": {
    "name": "ipython",
    "version": 3
   },
   "file_extension": ".py",
   "mimetype": "text/x-python",
   "name": "python",
   "nbconvert_exporter": "python",
   "pygments_lexer": "ipython3",
   "version": "3.9.16"
  },
  "orig_nbformat": 4,
  "vscode": {
   "interpreter": {
    "hash": "23dd61605ba7b41ce635bbff4ce65a64dcfc31dcf881515dbef871e0d95fc490"
   }
  }
 },
 "nbformat": 4,
 "nbformat_minor": 2
}
